{
 "cells": [
  {
   "cell_type": "code",
   "execution_count": 11,
   "metadata": {},
   "outputs": [],
   "source": [
    "import random"
   ]
  },
  {
   "cell_type": "code",
   "execution_count": 12,
   "metadata": {},
   "outputs": [],
   "source": [
    "file = open('samples.dat', 'w')"
   ]
  },
  {
   "cell_type": "code",
   "execution_count": 13,
   "metadata": {},
   "outputs": [],
   "source": [
    "random.seed()\n",
    "bounds = 10000000000000000000000000000000000000000000000000"
   ]
  },
  {
   "cell_type": "code",
   "execution_count": 14,
   "metadata": {},
   "outputs": [],
   "source": [
    "for i in range(100000):    \n",
    "    sample1 = random.randint(-bounds ,bounds) \n",
    "    sample2 = random.randint(-bounds, bounds)\n",
    "    if(i  < 10000):\n",
    "        sample3 = sample1 + sample2\n",
    "        writeString = str(sample1) + \" + \" + str(sample2) + \" \" + str(sample3) + \"\\n\"\n",
    "    elif(i  < 20000):\n",
    "        sample3 = sample1 - sample2\n",
    "        writeString = str(sample1) + \" - \" + str(sample2) + \" \" + str(sample3) + \"\\n\"\n",
    "    elif(i  < 30000):\n",
    "        sample3 = sample1 > sample2\n",
    "        writeString = str(sample1) + \" > \" + str(sample2) + \" \" + str(int(sample3)) + \"\\n\"\n",
    "    elif(i  < 40000):\n",
    "        sample3 = sample1 < sample2\n",
    "        writeString = str(sample1) + \" < \" + str(sample2) + \" \" + str(int(sample3)) + \"\\n\"\n",
    "    elif(i < 50000):\n",
    "        sample3 = sample1 != sample2\n",
    "        writeString = str(sample1) + \" != \" + str(sample2) + \" \" + str(int(sample3)) + \"\\n\"\n",
    "    elif(i < 60000):\n",
    "        sample3 = sample1 + sample2\n",
    "        writeString = str(sample1) + \" += \" + str(sample2) + \" \" + str(sample3) + \"\\n\"\n",
    "    elif(i < 70000):\n",
    "        sample3 = sample1 - sample2\n",
    "        writeString = str(sample1) + \" -= \" + str(sample2) + \" \" + str(sample3) + \"\\n\"\n",
    "    elif(i  < 80000):\n",
    "        sample3 = sample1 >= sample2\n",
    "        writeString = str(sample1) + \" >= \" + str(sample2) + \" \" + str(int(sample3)) + \"\\n\"\n",
    "    elif(i < 90000):\n",
    "        sample3 = sample1 <= sample2\n",
    "        writeString = str(sample1) + \" <= \" + str(sample2) + \" \" + str(int(sample3)) + \"\\n\"\n",
    "    else:\n",
    "        if(random.randint(0,2)):\n",
    "            sample1 = sample2\n",
    "        sample3 = sample1 == sample2\n",
    "        writeString = str(sample1) + \" == \" + str(sample2) + \" \" + str(int(sample3)) + \"\\n\"\n",
    "    file.write(writeString)\n",
    "file.flush()"
   ]
  },
  {
   "cell_type": "code",
   "execution_count": null,
   "metadata": {},
   "outputs": [],
   "source": []
  },
  {
   "cell_type": "code",
   "execution_count": 21,
   "metadata": {},
   "outputs": [
    {
     "data": {
      "text/plain": [
       "13856833738225448338"
      ]
     },
     "execution_count": 21,
     "metadata": {},
     "output_type": "execute_result"
    }
   ],
   "source": [
    "sample3"
   ]
  },
  {
   "cell_type": "code",
   "execution_count": null,
   "metadata": {},
   "outputs": [],
   "source": []
  }
 ],
 "metadata": {
  "kernelspec": {
   "display_name": "Python 3",
   "language": "python",
   "name": "python3"
  },
  "language_info": {
   "codemirror_mode": {
    "name": "ipython",
    "version": 3
   },
   "file_extension": ".py",
   "mimetype": "text/x-python",
   "name": "python",
   "nbconvert_exporter": "python",
   "pygments_lexer": "ipython3",
   "version": "3.7.5"
  }
 },
 "nbformat": 4,
 "nbformat_minor": 2
}
