{
 "cells": [
  {
   "cell_type": "code",
   "execution_count": 23,
   "metadata": {},
   "outputs": [
    {
     "name": "stdout",
     "output_type": "stream",
     "text": [
      "./test 401025109836497502889 \"+\" -6809647254736051190738\n",
      "-6408622144899553687849 (expected) != b'-6408622144899553687849'\n",
      "./test 6488879342129105874874 \"+\" -9703190832169068716186\n",
      "-6408622144899553687849 (expected) != b'-3214311490039962841312'\n"
     ]
    }
   ],
   "source": [
    "import subprocess as sb\n",
    "import time \n",
    "def run(command):\n",
    "    process = sb.Popen(command, shell=True, stdout=sb.PIPE, stderr=sb.STDOUT)\n",
    "    out = process.stdout.readlines()\n",
    "    code = process.wait()\n",
    "    return code, out\n",
    "def test(command, expected_code, expected_value):\n",
    "    print(command)\n",
    "    code, out = run(command)\n",
    "    if code != expected_code:\n",
    "        print ('return value', expected_code, '(expected) !=', code)\n",
    "        return\n",
    "    i = 0\n",
    "    print(line)\n",
    "    for line in out:\n",
    "        try:\n",
    "            if line.rstrip() != expected_value[i]:\n",
    "                print (expected_value[i], '(expected) !=', line.rstrip())\n",
    "                return\n",
    "            i += 1\n",
    "        except ValueError:\n",
    "            print ('invalid output')\n",
    "            return\n",
    "        except IndexError:\n",
    "            print ('invalid output')\n",
    "            return\n",
    "    if i != len(expected_value):\n",
    "        print ('empty output')\n",
    "        return\n",
    "    print ('ok') \n",
    "file = open(\"samples.dat\", 'r')\n",
    "for i in range(2):\n",
    "    string  = file.readline()\n",
    "    string = string.rstrip(\"\\n\")\n",
    "    args = string.split(sep = \" \")\n",
    "    lexem = \" \\\"\" + args[1]  + \"\\\" \"\n",
    "    command = \"./test \" + str(args[0]) + lexem + str(args[2])\n",
    "    test(command, 0, ['-6408622144899553687849'])"
   ]
  },
  {
   "cell_type": "code",
   "execution_count": 9,
   "metadata": {},
   "outputs": [
    {
     "data": {
      "text/plain": [
       "'\"+\"'"
      ]
     },
     "execution_count": 9,
     "metadata": {},
     "output_type": "execute_result"
    }
   ],
   "source": [
    "string\n",
    "string = string.rstrip(\"\\n\")\n",
    "string.split(sep = \" \")\n",
    "lexem = \"\\\"\" + \"+\" + \"\\\"\"\n",
    "lexem"
   ]
  },
  {
   "cell_type": "code",
   "execution_count": null,
   "metadata": {},
   "outputs": [],
   "source": []
  }
 ],
 "metadata": {
  "kernelspec": {
   "display_name": "Python 3",
   "language": "python",
   "name": "python3"
  },
  "language_info": {
   "codemirror_mode": {
    "name": "ipython",
    "version": 3
   },
   "file_extension": ".py",
   "mimetype": "text/x-python",
   "name": "python",
   "nbconvert_exporter": "python",
   "pygments_lexer": "ipython3",
   "version": "3.7.5"
  }
 },
 "nbformat": 4,
 "nbformat_minor": 2
}
